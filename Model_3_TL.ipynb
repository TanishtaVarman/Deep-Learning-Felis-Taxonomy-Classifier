{
  "nbformat": 4,
  "nbformat_minor": 0,
  "metadata": {
    "colab": {
      "provenance": [],
      "gpuType": "T4"
    },
    "kernelspec": {
      "name": "python3",
      "display_name": "Python 3"
    },
    "language_info": {
      "name": "python"
    },
    "accelerator": "GPU"
  },
  "cells": [
    {
      "cell_type": "markdown",
      "source": [
        "# Name : **Tanishta** **Varman**\n",
        "# School :**SCDS**\n",
        "# Email ID : *tanishta.m-26@scds.saiuniversity.edu.in*"
      ],
      "metadata": {
        "id": "KjY53AnkpEGR"
      }
    },
    {
      "cell_type": "markdown",
      "source": [
        "# Import Libraries"
      ],
      "metadata": {
        "id": "k1tq7Kt_nZUR"
      }
    },
    {
      "cell_type": "code",
      "execution_count": 1,
      "metadata": {
        "colab": {
          "base_uri": "https://localhost:8080/",
          "height": 0
        },
        "id": "AW2FhMbKmno3",
        "outputId": "4ff3d0e1-cdc0-4508-e424-403f8c313e7f"
      },
      "outputs": [
        {
          "output_type": "stream",
          "name": "stdout",
          "text": [
            "modules loaded\n"
          ]
        }
      ],
      "source": [
        "import os\n",
        "import numpy as np\n",
        "import pandas as pd\n",
        "import matplotlib.pyplot as plt\n",
        "import tensorflow as tf\n",
        "from tensorflow import keras\n",
        "import pathlib\n",
        "import glob\n",
        "import PIL\n",
        "from PIL import Image , ImageEnhance\n",
        "from sklearn.model_selection import train_test_split\n",
        "from sklearn.metrics import confusion_matrix, classification_report\n",
        "from tensorflow.keras.models import Model\n",
        "from tensorflow.keras.layers import Dense , Dropout , BatchNormalization\n",
        "print('modules loaded')\n"
      ]
    },
    {
      "cell_type": "markdown",
      "source": [
        "# Data breaking"
      ],
      "metadata": {
        "id": "lsy55oGqILJV"
      }
    },
    {
      "cell_type": "code",
      "source": [
        "from google.colab import drive\n",
        "drive.mount('/content/drive')"
      ],
      "metadata": {
        "colab": {
          "base_uri": "https://localhost:8080/",
          "height": 0
        },
        "id": "vcrDCzCaIO5U",
        "outputId": "95577ad7-9cdc-4473-de35-b71464ee8783"
      },
      "execution_count": 2,
      "outputs": [
        {
          "output_type": "stream",
          "name": "stdout",
          "text": [
            "Mounted at /content/drive\n"
          ]
        }
      ]
    },
    {
      "cell_type": "code",
      "source": [
        "data_class=os.listdir('/content/drive/MyDrive/Dl_project /data file')\n",
        "number_class=len(data_class)\n",
        "print(\"The number of classes the cats are sorted \",number_class)\n",
        "print(\"The name of each type of cat \",data_class)"
      ],
      "metadata": {
        "colab": {
          "base_uri": "https://localhost:8080/",
          "height": 0
        },
        "id": "gIFwJIiFIWWU",
        "outputId": "c5c73353-3524-4748-db20-7f91b1692588"
      },
      "execution_count": 3,
      "outputs": [
        {
          "output_type": "stream",
          "name": "stdout",
          "text": [
            "The number of classes the cats are sorted  7\n",
            "The name of each type of cat  ['jungle-cat', 'domestic-cat', 'chinese-mountain-cat', 'european-wildcat', 'african-wildcat', 'sand-cat', 'blackfoot-cat']\n"
          ]
        }
      ]
    },
    {
      "cell_type": "markdown",
      "source": [
        "# Sort Datasets with Label"
      ],
      "metadata": {
        "id": "p9rpR76IIolK"
      }
    },
    {
      "cell_type": "code",
      "source": [
        "path_of_file=[] # has all the images and their paths\n",
        "file_label=[] #has the type or class of cat and its location\n",
        "img_count=[] # count_images_class # number of images in each type or class\n",
        "final_count=0 # total number of images\n",
        "\n",
        "for index, nameofclass in enumerate(data_class):\n",
        "  class_count=0\n",
        "  file=os.path.join(\"/content/drive/MyDrive/Dl_project /data file\", nameofclass)\n",
        "  fileofclass=os.listdir(file)\n",
        "  for i in fileofclass:\n",
        "    path_of_file.append(os.path.join(file,i))\n",
        "    final_count +=1\n",
        "    class_count +=1\n",
        "    file_label.append(nameofclass)\n",
        "  img_count.append(class_count)\n",
        "\n",
        "print(\"Total number of images \",final_count)\n",
        "print(\"Number of images in each type of cat\",img_count)\n"
      ],
      "metadata": {
        "colab": {
          "base_uri": "https://localhost:8080/",
          "height": 0
        },
        "id": "2VSEUhtIIujm",
        "outputId": "d5b600fe-352e-4721-ec85-fda5163058c6"
      },
      "execution_count": 4,
      "outputs": [
        {
          "output_type": "stream",
          "name": "stdout",
          "text": [
            "Total number of images  519\n",
            "Number of images in each type of cat [86, 64, 42, 85, 91, 72, 79]\n"
          ]
        }
      ]
    },
    {
      "cell_type": "markdown",
      "source": [
        "#### now we process the images we have since we cannot use them as it is"
      ],
      "metadata": {
        "id": "nKOuiq5LI-yI"
      }
    },
    {
      "cell_type": "code",
      "source": [
        "ex=[]\n",
        "for i in path_of_file:\n",
        "  j=Image.open(i)\n",
        "  j=j.resize((224,224))\n",
        "  j=np.array(j)/255 # we are making range to 0 to 1.0 we only scale we dont try to stretch the image\n",
        "  ex.append(j)\n",
        "\n",
        "from sklearn.preprocessing import LabelEncoder\n",
        "end=LabelEncoder()\n",
        "y=end.fit_transform(file_label)\n",
        "print(set(y))\n",
        "print(end.classes_)\n",
        "ex=np.array(ex)\n",
        "y=np.array(y)\n",
        "print(ex.shape)\n",
        "print(y.shape)\n"
      ],
      "metadata": {
        "colab": {
          "base_uri": "https://localhost:8080/",
          "height": 0
        },
        "id": "cVtEEWc9I_PV",
        "outputId": "cc47b1ff-061e-4967-c2e9-29df3b266171"
      },
      "execution_count": 5,
      "outputs": [
        {
          "output_type": "stream",
          "name": "stdout",
          "text": [
            "{0, 1, 2, 3, 4, 5, 6}\n",
            "['african-wildcat' 'blackfoot-cat' 'chinese-mountain-cat' 'domestic-cat'\n",
            " 'european-wildcat' 'jungle-cat' 'sand-cat']\n",
            "(519, 224, 224, 3)\n",
            "(519,)\n"
          ]
        }
      ]
    },
    {
      "cell_type": "markdown",
      "source": [
        " # Now we split the dataset for training and testing\n"
      ],
      "metadata": {
        "id": "BXLmmkyOJokT"
      }
    },
    {
      "cell_type": "markdown",
      "source": [
        "##Transfer Learning\n"
      ],
      "metadata": {
        "id": "atLzumU9KEbj"
      }
    },
    {
      "cell_type": "code",
      "source": [
        "x_train,x_test,y_train,y_test=train_test_split(ex,y,test_size=0.25,random_state=42,stratify=y)\n",
        "# we use stratify cause the types on the data set are not balanced some has more and some has less images\n",
        "print(\"shape of x_train {}\".format(x_train.shape))\n",
        "print(\"shape of x_test{} \".format(x_test.shape))\n",
        "print(len(x_train))\n",
        "print(len(x_test))\n",
        "print(\"shape of y_train {}\".format(y_train.shape))\n",
        "print(\"shape of y_test{} \".format(y_test.shape))\n",
        "print(len(y_train))\n",
        "print(len(y_test))"
      ],
      "metadata": {
        "colab": {
          "base_uri": "https://localhost:8080/",
          "height": 0
        },
        "id": "0KZPmwalJrjf",
        "outputId": "6dd1ef37-ee11-4093-9a5c-680dec161a87"
      },
      "execution_count": 6,
      "outputs": [
        {
          "output_type": "stream",
          "name": "stdout",
          "text": [
            "shape of x_train (389, 224, 224, 3)\n",
            "shape of x_test(130, 224, 224, 3) \n",
            "389\n",
            "130\n",
            "shape of y_train (389,)\n",
            "shape of y_test(130,) \n",
            "389\n",
            "130\n"
          ]
        }
      ]
    },
    {
      "cell_type": "markdown",
      "source": [
        "now we standardise the data sets"
      ],
      "metadata": {
        "id": "KEzEXLdhJ3Ii"
      }
    },
    {
      "cell_type": "code",
      "source": [
        "mean_x=x_train.mean()\n",
        "std=x_train.std()\n",
        "x_train_std=(x_train - mean_x) / std\n",
        "x_test_std=(x_test - mean_x) / std"
      ],
      "metadata": {
        "id": "bjMCkdOvJ3tQ"
      },
      "execution_count": 7,
      "outputs": []
    },
    {
      "cell_type": "markdown",
      "source": [
        "Then after that we do Transfer Learning"
      ],
      "metadata": {
        "id": "-2J0QZ9lKMRe"
      }
    },
    {
      "cell_type": "code",
      "source": [
        "base= keras.applications.EfficientNetV2B0(\n",
        "    include_top=False,\n",
        "    weights=\"imagenet\",\n",
        "    name=\"efficientnetv2-b0\",\n",
        ")"
      ],
      "metadata": {
        "colab": {
          "base_uri": "https://localhost:8080/",
          "height": 0
        },
        "id": "r59nO-Y6n232",
        "outputId": "c6b56d75-b6e4-4d51-c43d-9bce239dca9c"
      },
      "execution_count": 8,
      "outputs": [
        {
          "output_type": "stream",
          "name": "stdout",
          "text": [
            "Downloading data from https://storage.googleapis.com/tensorflow/keras-applications/efficientnet_v2/efficientnetv2-b0_notop.h5\n",
            "\u001b[1m24274472/24274472\u001b[0m \u001b[32m━━━━━━━━━━━━━━━━━━━━\u001b[0m\u001b[37m\u001b[0m \u001b[1m1s\u001b[0m 0us/step\n"
          ]
        }
      ]
    },
    {
      "cell_type": "markdown",
      "source": [
        "we can not make changes to the acquried model .\n",
        "\n",
        "\n",
        "we do this so not all weights are used and updated during backpropagation"
      ],
      "metadata": {
        "id": "pDqIhBqWKfVG"
      }
    },
    {
      "cell_type": "code",
      "source": [
        "for i in base.layers:\n",
        "  i.trainabe=False"
      ],
      "metadata": {
        "id": "yyse1nHAKgCk"
      },
      "execution_count": 9,
      "outputs": []
    },
    {
      "cell_type": "markdown",
      "source": [
        "# Add Classifier"
      ],
      "metadata": {
        "id": "wAfejzwiKi81"
      }
    },
    {
      "cell_type": "code",
      "source": [
        "# we will do global average pooling\n",
        "gp=keras.layers.GlobalAveragePooling2D()(base.output)\n",
        "x = Dropout(0.15)(gp)\n",
        "op=keras.layers.Dense(units=7, activation='softmax')(x)\n",
        "tl_model=keras.models.Model(inputs=[base.input],outputs=[op])\n",
        "\n",
        "\n",
        "tl_model.compile(optimizer='adam', loss ='sparse_categorical_crossentropy', metrics=['accuracy'])\n",
        "tl_calback=[ keras.callbacks.ModelCheckpoint('bestTL.weights.h5', monitor='val_accuracy', save_best_only=True, save_weights_only=True)]\n",
        "\n",
        "tl_hist=tl_model.fit(x= x_train_std , y=y_train , validation_split=0.1, batch_size=32,epochs=10 , callbacks=tl_calback)"
      ],
      "metadata": {
        "colab": {
          "base_uri": "https://localhost:8080/",
          "height": 0
        },
        "id": "MOulRdsOvjaH",
        "outputId": "722ee87c-c17d-469e-c36a-cf147e5dc780"
      },
      "execution_count": 10,
      "outputs": [
        {
          "output_type": "stream",
          "name": "stdout",
          "text": [
            "Epoch 1/10\n",
            "\u001b[1m11/11\u001b[0m \u001b[32m━━━━━━━━━━━━━━━━━━━━\u001b[0m\u001b[37m\u001b[0m \u001b[1m167s\u001b[0m 8s/step - accuracy: 0.2871 - loss: 1.7898 - val_accuracy: 0.0769 - val_loss: 1.9949\n",
            "Epoch 2/10\n",
            "\u001b[1m11/11\u001b[0m \u001b[32m━━━━━━━━━━━━━━━━━━━━\u001b[0m\u001b[37m\u001b[0m \u001b[1m14s\u001b[0m 204ms/step - accuracy: 0.8955 - loss: 0.4948 - val_accuracy: 0.2308 - val_loss: 1.9763\n",
            "Epoch 3/10\n",
            "\u001b[1m11/11\u001b[0m \u001b[32m━━━━━━━━━━━━━━━━━━━━\u001b[0m\u001b[37m\u001b[0m \u001b[1m2s\u001b[0m 200ms/step - accuracy: 0.9637 - loss: 0.1640 - val_accuracy: 0.2821 - val_loss: 2.1393\n",
            "Epoch 4/10\n",
            "\u001b[1m11/11\u001b[0m \u001b[32m━━━━━━━━━━━━━━━━━━━━\u001b[0m\u001b[37m\u001b[0m \u001b[1m1s\u001b[0m 122ms/step - accuracy: 0.9812 - loss: 0.0795 - val_accuracy: 0.2308 - val_loss: 3.0162\n",
            "Epoch 5/10\n",
            "\u001b[1m11/11\u001b[0m \u001b[32m━━━━━━━━━━━━━━━━━━━━\u001b[0m\u001b[37m\u001b[0m \u001b[1m1s\u001b[0m 123ms/step - accuracy: 0.9898 - loss: 0.0541 - val_accuracy: 0.2308 - val_loss: 2.9305\n",
            "Epoch 6/10\n",
            "\u001b[1m11/11\u001b[0m \u001b[32m━━━━━━━━━━━━━━━━━━━━\u001b[0m\u001b[37m\u001b[0m \u001b[1m3s\u001b[0m 140ms/step - accuracy: 0.9712 - loss: 0.0947 - val_accuracy: 0.0513 - val_loss: 2.6856\n",
            "Epoch 7/10\n",
            "\u001b[1m11/11\u001b[0m \u001b[32m━━━━━━━━━━━━━━━━━━━━\u001b[0m\u001b[37m\u001b[0m \u001b[1m1s\u001b[0m 130ms/step - accuracy: 0.9727 - loss: 0.0795 - val_accuracy: 0.0513 - val_loss: 3.4319\n",
            "Epoch 8/10\n",
            "\u001b[1m11/11\u001b[0m \u001b[32m━━━━━━━━━━━━━━━━━━━━\u001b[0m\u001b[37m\u001b[0m \u001b[1m1s\u001b[0m 123ms/step - accuracy: 0.9555 - loss: 0.1057 - val_accuracy: 0.2821 - val_loss: 2.3031\n",
            "Epoch 9/10\n",
            "\u001b[1m11/11\u001b[0m \u001b[32m━━━━━━━━━━━━━━━━━━━━\u001b[0m\u001b[37m\u001b[0m \u001b[1m1s\u001b[0m 122ms/step - accuracy: 0.9729 - loss: 0.0931 - val_accuracy: 0.1282 - val_loss: 3.4616\n",
            "Epoch 10/10\n",
            "\u001b[1m11/11\u001b[0m \u001b[32m━━━━━━━━━━━━━━━━━━━━\u001b[0m\u001b[37m\u001b[0m \u001b[1m3s\u001b[0m 121ms/step - accuracy: 0.9610 - loss: 0.1299 - val_accuracy: 0.2308 - val_loss: 3.3209\n"
          ]
        }
      ]
    },
    {
      "cell_type": "markdown",
      "source": [
        "# Graph"
      ],
      "metadata": {
        "id": "11fWINdALxbH"
      }
    },
    {
      "cell_type": "code",
      "source": [
        "keys=['accuracy' , 'val_accuracy']\n",
        "progress = { k:v for k , v in tl_hist.history.items() if k in keys}\n",
        "import pandas as pd\n",
        "pd.DataFrame(progress).plot()\n",
        "plt.xlabel(\"Epochs\")\n",
        "plt.ylabel(\"Accuracy\")\n",
        "plt.grid(True)\n",
        "plt.show()"
      ],
      "metadata": {
        "id": "WD1jqFVgLywP",
        "colab": {
          "base_uri": "https://localhost:8080/",
          "height": 449
        },
        "outputId": "565c881a-daf2-427a-be32-dc8b7f345d33"
      },
      "execution_count": 11,
      "outputs": [
        {
          "output_type": "display_data",
          "data": {
            "text/plain": [
              "<Figure size 640x480 with 1 Axes>"
            ],
            "image/png": "[encoded data removed]"
          },
          "metadata": {}
        }
      ]
    },
    {
      "cell_type": "markdown",
      "source": [
        "# We are saving the best models in models_3"
      ],
      "metadata": {
        "id": "Pnt9zOY5MAJS"
      }
    },
    {
      "cell_type": "markdown",
      "source": [
        "## Loss percentage of the models and models Accuracy"
      ],
      "metadata": {
        "id": "t6E3AtLeMPe6"
      }
    },
    {
      "cell_type": "code",
      "source": [
        "testloss_tl , testaccuracy_tl = tl_model.evaluate(x=x_test_std , y=y_test)\n",
        "print(\"Test-Loss : %f , Test -Accuracy : %f \" % (testloss_tl,testaccuracy_tl))\n",
        "\n"
      ],
      "metadata": {
        "id": "FrZKteKzML2q",
        "colab": {
          "base_uri": "https://localhost:8080/",
          "height": 0
        },
        "outputId": "133a894c-1807-484b-bc6d-947789bdc201"
      },
      "execution_count": 12,
      "outputs": [
        {
          "output_type": "stream",
          "name": "stdout",
          "text": [
            "\u001b[1m5/5\u001b[0m \u001b[32m━━━━━━━━━━━━━━━━━━━━\u001b[0m\u001b[37m\u001b[0m \u001b[1m11s\u001b[0m 3s/step - accuracy: 0.1775 - loss: 3.4976\n",
            "Test-Loss : 3.457524 , Test -Accuracy : 0.161538 \n"
          ]
        }
      ]
    },
    {
      "cell_type": "code",
      "source": [
        "tl_model.load_weights(\"bestTL.weights.h5\")\n",
        "testlostt_tl , testaccuracy_tl =tl_model.evaluate(x=x_test_std, y=y_test)\n",
        "print(\"Test-Loss : %f , Test -Accuracy : %f \" % (testloss_tl,testaccuracy_tl))\n",
        "tl_model.save('/content/drive/MyDrive/Models_3_TL/01_EfficientNetV2B01_TransferLearning_Best_Model.h5')"
      ],
      "metadata": {
        "id": "oiG9FkPPMTED",
        "colab": {
          "base_uri": "https://localhost:8080/",
          "height": 0
        },
        "outputId": "9a83d99c-d5fe-4e2a-f6bd-635225c3e711"
      },
      "execution_count": 13,
      "outputs": [
        {
          "output_type": "stream",
          "name": "stdout",
          "text": [
            "\u001b[1m5/5\u001b[0m \u001b[32m━━━━━━━━━━━━━━━━━━━━\u001b[0m\u001b[37m\u001b[0m \u001b[1m0s\u001b[0m 42ms/step - accuracy: 0.2277 - loss: 2.1186\n"
          ]
        },
        {
          "output_type": "stream",
          "name": "stderr",
          "text": [
            "WARNING:absl:You are saving your model as an HDF5 file via `model.save()` or `keras.saving.save_model(model)`. This file format is considered legacy. We recommend using instead the native Keras format, e.g. `model.save('my_model.keras')` or `keras.saving.save_model(model, 'my_model.keras')`. \n"
          ]
        },
        {
          "output_type": "stream",
          "name": "stdout",
          "text": [
            "Test-Loss : 3.457524 , Test -Accuracy : 0.207692 \n"
          ]
        }
      ]
    },
    {
      "cell_type": "code",
      "source": [
        "from numpy import save\n",
        "save ('/content/drive/MyDrive/Models_3_TL/X_train_std.npy' , x_train_std)\n",
        "save( '/content/drive/MyDrive/Models_3_TL/X_test_std.npy' , x_test_std)\n",
        "save('/content/drive/MyDrive/Models_3_TL/y_train.npy', y_train)\n",
        "save('/content/drive/MyDrive/Models_3_TL/y_test.npy', y_test)"
      ],
      "metadata": {
        "id": "-JUjkVsQMWN0"
      },
      "execution_count": 14,
      "outputs": []
    }
  ]
}
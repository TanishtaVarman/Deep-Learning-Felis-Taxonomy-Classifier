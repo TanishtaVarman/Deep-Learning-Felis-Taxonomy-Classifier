{
  "nbformat": 4,
  "nbformat_minor": 0,
  "metadata": {
    "colab": {
      "provenance": [],
      "gpuType": "T4"
    },
    "kernelspec": {
      "name": "python3",
      "display_name": "Python 3"
    },
    "language_info": {
      "name": "python"
    },
    "accelerator": "GPU"
  },
  "cells": [
    {
      "cell_type": "markdown",
      "source": [
        "# Name : **Tanishta** **Varman**\n",
        "# School :**SCDS**\n",
        "# Email ID : *tanishta.m-26@scds.saiuniversity.edu.in*"
      ],
      "metadata": {
        "id": "KjY53AnkpEGR"
      }
    },
    {
      "cell_type": "markdown",
      "source": [
        "##Importing requried libraries"
      ],
      "metadata": {
        "id": "UpjU8FjY3kUn"
      }
    },
    {
      "cell_type": "markdown",
      "source": [
        "some of the code is used from the website : https://keras.io/api/applications/inceptionv3/"
      ],
      "metadata": {
        "id": "o5VhQhOoUdL3"
      }
    },
    {
      "cell_type": "code",
      "execution_count": 1,
      "metadata": {
        "id": "qkUmPFoC2YV4"
      },
      "outputs": [],
      "source": [
        "import os\n",
        "import time\n",
        "import pathlib\n",
        "import glob\n",
        "import PIL\n",
        "from PIL import Image , ImageEnhance\n",
        "import numpy as np\n",
        "import pandas as pd\n",
        "import matplotlib.pyplot as plt\n",
        "from sklearn.model_selection import train_test_split\n",
        "from sklearn.metrics import confusion_matrix , classification_report\n",
        "import tensorflow as tf\n",
        "from tensorflow import keras\n",
        "from tensorflow.keras.models import Model\n",
        "from tensorflow.keras.layers import Dense , Dropout , BatchNormalization"
      ]
    },
    {
      "cell_type": "markdown",
      "source": [
        "#Dataset Details\n",
        "- we have a file with 519 pictures\n",
        "- we have 7 subclasses with each having respective number of pictures [86,42,79,72,91,64,85]\n",
        "- we will train 75% and test on 25% with 10% for validation"
      ],
      "metadata": {
        "id": "ei9LV0K65Nkf"
      }
    },
    {
      "cell_type": "markdown",
      "source": [
        "# Import Dataset"
      ],
      "metadata": {
        "id": "8DTIWhMs52gW"
      }
    },
    {
      "cell_type": "code",
      "source": [
        "from google.colab import drive\n",
        "import os\n",
        "drive.mount('/content/drive')\n"
      ],
      "metadata": {
        "id": "p2mDyqKX3pVv",
        "colab": {
          "base_uri": "https://localhost:8080/"
        },
        "outputId": "04d179aa-f8f0-409e-d1be-33aa3b67ea2e"
      },
      "execution_count": 2,
      "outputs": [
        {
          "output_type": "stream",
          "name": "stdout",
          "text": [
            "Drive already mounted at /content/drive; to attempt to forcibly remount, call drive.mount(\"/content/drive\", force_remount=True).\n"
          ]
        }
      ]
    },
    {
      "cell_type": "code",
      "source": [
        "data_class=os.listdir('/content/drive/MyDrive/Dl_project /data file')\n",
        "number_class=len(data_class)\n",
        "print(\"The number of classes the cats are sorted \",number_class)\n",
        "print(\"The name of each type of cat \",data_class)"
      ],
      "metadata": {
        "colab": {
          "base_uri": "https://localhost:8080/"
        },
        "id": "dKYDTzgh_pMY",
        "outputId": "8a45e268-9e07-450e-d00f-4f8887f3bdf2"
      },
      "execution_count": 3,
      "outputs": [
        {
          "output_type": "stream",
          "name": "stdout",
          "text": [
            "The number of classes the cats are sorted  7\n",
            "The name of each type of cat  ['jungle-cat', 'domestic-cat', 'chinese-mountain-cat', 'european-wildcat', 'african-wildcat', 'sand-cat', 'blackfoot-cat']\n"
          ]
        }
      ]
    },
    {
      "cell_type": "markdown",
      "source": [
        "# Sort Dataset with labels"
      ],
      "metadata": {
        "id": "W7xXBs0rAIuv"
      }
    },
    {
      "cell_type": "code",
      "source": [
        "path_of_file=[] # has all the images and their paths\n",
        "file_label=[] #has the type or class of cat and its location\n",
        "img_count=[] # count_images_class # number of images in each type or class\n",
        "final_count=0 # total number of images\n",
        "\n",
        "for index, nameofclass in enumerate(data_class):\n",
        "  class_count=0\n",
        "  file=os.path.join(\"/content/drive/MyDrive/Dl_project /data file\", nameofclass)\n",
        "  fileofclass=os.listdir(file)\n",
        "  for i in fileofclass:\n",
        "    path_of_file.append(os.path.join(file,i))\n",
        "    final_count +=1\n",
        "    class_count +=1\n",
        "    file_label.append(nameofclass)\n",
        "  img_count.append(class_count)\n",
        "\n",
        "\n",
        "\n"
      ],
      "metadata": {
        "id": "NK2Ic5dWEdvZ"
      },
      "execution_count": 4,
      "outputs": []
    },
    {
      "cell_type": "code",
      "source": [
        "print(\"Total number of images \",final_count)\n",
        "print(\"Number of images in each type of cat\",img_count)"
      ],
      "metadata": {
        "colab": {
          "base_uri": "https://localhost:8080/"
        },
        "id": "eprkuBg_O6uZ",
        "outputId": "10f8f7ce-0137-497f-f797-10e4c7a7eb20"
      },
      "execution_count": 5,
      "outputs": [
        {
          "output_type": "stream",
          "name": "stdout",
          "text": [
            "Total number of images  519\n",
            "Number of images in each type of cat [86, 64, 42, 85, 91, 72, 79]\n"
          ]
        }
      ]
    },
    {
      "cell_type": "markdown",
      "source": [
        "#### now we process the images we have since we cannot use them as it is"
      ],
      "metadata": {
        "id": "n2BSf1xtP_fg"
      }
    },
    {
      "cell_type": "code",
      "source": [
        "ex=[]\n",
        "for i in path_of_file:\n",
        "  j=Image.open(i)\n",
        "  j=j.resize((299,299))\n",
        "  j=np.array(j)/255 # we are making range to 0 to 1.0 we only scale we dont try to stretch the image\n",
        "  ex.append(j)\n",
        "\n",
        "from sklearn.preprocessing import LabelEncoder\n",
        "end=LabelEncoder()\n",
        "y=end.fit_transform(file_label)\n",
        "print(set(y))\n",
        "print(end.classes_)\n",
        "ex=np.array(ex)\n",
        "y=np.array(y)\n",
        "print(ex.shape)\n",
        "print(y.shape)\n"
      ],
      "metadata": {
        "colab": {
          "base_uri": "https://localhost:8080/"
        },
        "id": "mMl62Q9PQDsl",
        "outputId": "a248c443-4f32-417a-b76c-3af3981c0ef0"
      },
      "execution_count": 6,
      "outputs": [
        {
          "output_type": "stream",
          "name": "stdout",
          "text": [
            "{0, 1, 2, 3, 4, 5, 6}\n",
            "['african-wildcat' 'blackfoot-cat' 'chinese-mountain-cat' 'domestic-cat'\n",
            " 'european-wildcat' 'jungle-cat' 'sand-cat']\n",
            "(519, 299, 299, 3)\n",
            "(519,)\n"
          ]
        }
      ]
    },
    {
      "cell_type": "markdown",
      "source": [
        "#Now we split the dataset for training and testing\n",
        "\n",
        "> Add blockquote\n",
        "\n",
        "\n"
      ],
      "metadata": {
        "id": "oh7uQ0KsRPhr"
      }
    },
    {
      "cell_type": "markdown",
      "source": [
        "## Transfer Learning"
      ],
      "metadata": {
        "id": "adsyhr_xVAg_"
      }
    },
    {
      "cell_type": "code",
      "source": [
        "x_train,x_test,y_train,y_test=train_test_split(ex,y,test_size=0.25,random_state=42,stratify=y)\n",
        "# we use stratify cause the types on the data set are not balanced some has more and some has less images\n",
        "print(\"shape of x_train {}\".format(x_train.shape))\n",
        "print(\"shape of x_test{} \".format(x_test.shape))\n",
        "print(len(x_train))\n",
        "print(len(x_test))\n",
        "print(\"shape of y_train {}\".format(y_train.shape))\n",
        "print(\"shape of y_test{} \".format(y_test.shape))\n",
        "print(len(y_train))\n",
        "print(len(y_test))"
      ],
      "metadata": {
        "colab": {
          "base_uri": "https://localhost:8080/"
        },
        "id": "uWx6ilfFRW4Y",
        "outputId": "b3772899-c01c-47f4-ca15-6007abb5c107"
      },
      "execution_count": 7,
      "outputs": [
        {
          "output_type": "stream",
          "name": "stdout",
          "text": [
            "shape of x_train (389, 299, 299, 3)\n",
            "shape of x_test(130, 299, 299, 3) \n",
            "389\n",
            "130\n",
            "shape of y_train (389,)\n",
            "shape of y_test(130,) \n",
            "389\n",
            "130\n"
          ]
        }
      ]
    },
    {
      "cell_type": "markdown",
      "source": [
        "now we standardise the data sets"
      ],
      "metadata": {
        "id": "eleoXJmfTVMo"
      }
    },
    {
      "cell_type": "markdown",
      "source": [
        "Then after that we do Transfer Learning"
      ],
      "metadata": {
        "id": "HtsgVIqYUjVZ"
      }
    },
    {
      "cell_type": "code",
      "source": [
        "mean_x=x_train.mean()\n",
        "std=x_train.std()\n",
        "x_train_std=(x_train - mean_x) / std\n",
        "x_test_std=(x_test - mean_x) / std\n",
        "\n",
        "# Now we use the transfer learning\n",
        "base = keras.applications.InceptionV3(\n",
        "    include_top=False,\n",
        "    weights=\"imagenet\",\n",
        "    name=\"inception_v3\",\n",
        ")\n"
      ],
      "metadata": {
        "id": "zlBvh_l6TfC0",
        "colab": {
          "base_uri": "https://localhost:8080/"
        },
        "outputId": "e665ee90-44fe-4211-d3e9-6ca6f9ce99f1"
      },
      "execution_count": 8,
      "outputs": [
        {
          "output_type": "stream",
          "name": "stdout",
          "text": [
            "Downloading data from https://storage.googleapis.com/tensorflow/keras-applications/inception_v3/inception_v3_weights_tf_dim_ordering_tf_kernels_notop.h5\n",
            "\u001b[1m87910968/87910968\u001b[0m \u001b[32m━━━━━━━━━━━━━━━━━━━━\u001b[0m\u001b[37m\u001b[0m \u001b[1m5s\u001b[0m 0us/step\n"
          ]
        }
      ]
    },
    {
      "cell_type": "markdown",
      "source": [
        "we can not make changes to the acquried model .\n",
        "\n",
        "\n",
        "we do this so not all weights are used and updated during backpropagation"
      ],
      "metadata": {
        "id": "fCrBkVqRUoBR"
      }
    },
    {
      "cell_type": "code",
      "source": [
        "for i in base.layers:\n",
        "  i.trainabe=False"
      ],
      "metadata": {
        "id": "GZgHi5e5Uspn"
      },
      "execution_count": 9,
      "outputs": []
    },
    {
      "cell_type": "markdown",
      "source": [
        "# Add Classifier"
      ],
      "metadata": {
        "id": "FVXVt221U_uj"
      }
    },
    {
      "cell_type": "code",
      "source": [
        "# we will do global average pooling\n",
        "gp=keras.layers.GlobalAveragePooling2D()(base.output)\n",
        "x= BatchNormalization()(gp)\n",
        "x = Dropout(0.25)(x)\n",
        "op=keras.layers.Dense(units=7, activation='softmax')(x)\n",
        "tl_model=keras.models.Model(inputs=[base.input],outputs=[op])\n",
        "\n",
        "\n",
        "tl_model.compile(optimizer='adam', loss ='sparse_categorical_crossentropy', metrics=['accuracy'])\n",
        "tl_calback=[ keras.callbacks.ModelCheckpoint('bestTL.weights.h5', monitor='val_accuracy', save_best_only=True, save_weights_only=True)]\n",
        "\n",
        "tl_hist=tl_model.fit(x= x_train_std , y=y_train , validation_split=0.1, batch_size=32,epochs=10 , callbacks=tl_calback)\n",
        "\n"
      ],
      "metadata": {
        "colab": {
          "base_uri": "https://localhost:8080/"
        },
        "id": "f9hH3Y1pVHhg",
        "outputId": "60f6ecd3-a12a-445b-f80c-6919d21cbecf"
      },
      "execution_count": 10,
      "outputs": [
        {
          "output_type": "stream",
          "name": "stdout",
          "text": [
            "Epoch 1/10\n",
            "\u001b[1m11/11\u001b[0m \u001b[32m━━━━━━━━━━━━━━━━━━━━\u001b[0m\u001b[37m\u001b[0m \u001b[1m179s\u001b[0m 8s/step - accuracy: 0.4283 - loss: 2.9010 - val_accuracy: 0.0513 - val_loss: 4.6046\n",
            "Epoch 2/10\n",
            "\u001b[1m11/11\u001b[0m \u001b[32m━━━━━━━━━━━━━━━━━━━━\u001b[0m\u001b[37m\u001b[0m \u001b[1m61s\u001b[0m 420ms/step - accuracy: 0.6715 - loss: 1.2625 - val_accuracy: 0.0513 - val_loss: 6.1488\n",
            "Epoch 3/10\n",
            "\u001b[1m11/11\u001b[0m \u001b[32m━━━━━━━━━━━━━━━━━━━━\u001b[0m\u001b[37m\u001b[0m \u001b[1m7s\u001b[0m 610ms/step - accuracy: 0.8238 - loss: 0.6231 - val_accuracy: 0.2051 - val_loss: 4.0227\n",
            "Epoch 4/10\n",
            "\u001b[1m11/11\u001b[0m \u001b[32m━━━━━━━━━━━━━━━━━━━━\u001b[0m\u001b[37m\u001b[0m \u001b[1m8s\u001b[0m 424ms/step - accuracy: 0.8680 - loss: 0.4730 - val_accuracy: 0.1282 - val_loss: 2.0428\n",
            "Epoch 5/10\n",
            "\u001b[1m11/11\u001b[0m \u001b[32m━━━━━━━━━━━━━━━━━━━━\u001b[0m\u001b[37m\u001b[0m \u001b[1m5s\u001b[0m 443ms/step - accuracy: 0.9281 - loss: 0.2069 - val_accuracy: 0.1538 - val_loss: 2.4102\n",
            "Epoch 6/10\n",
            "\u001b[1m11/11\u001b[0m \u001b[32m━━━━━━━━━━━━━━━━━━━━\u001b[0m\u001b[37m\u001b[0m \u001b[1m6s\u001b[0m 543ms/step - accuracy: 0.9533 - loss: 0.1705 - val_accuracy: 0.3590 - val_loss: 5.0203\n",
            "Epoch 7/10\n",
            "\u001b[1m11/11\u001b[0m \u001b[32m━━━━━━━━━━━━━━━━━━━━\u001b[0m\u001b[37m\u001b[0m \u001b[1m9s\u001b[0m 439ms/step - accuracy: 0.9623 - loss: 0.1602 - val_accuracy: 0.1795 - val_loss: 1576.0776\n",
            "Epoch 8/10\n",
            "\u001b[1m11/11\u001b[0m \u001b[32m━━━━━━━━━━━━━━━━━━━━\u001b[0m\u001b[37m\u001b[0m \u001b[1m5s\u001b[0m 434ms/step - accuracy: 0.9708 - loss: 0.0761 - val_accuracy: 0.2308 - val_loss: 181.1635\n",
            "Epoch 9/10\n",
            "\u001b[1m11/11\u001b[0m \u001b[32m━━━━━━━━━━━━━━━━━━━━\u001b[0m\u001b[37m\u001b[0m \u001b[1m7s\u001b[0m 606ms/step - accuracy: 0.9722 - loss: 0.1082 - val_accuracy: 0.3846 - val_loss: 9.0533\n",
            "Epoch 10/10\n",
            "\u001b[1m11/11\u001b[0m \u001b[32m━━━━━━━━━━━━━━━━━━━━\u001b[0m\u001b[37m\u001b[0m \u001b[1m8s\u001b[0m 425ms/step - accuracy: 0.9777 - loss: 0.0575 - val_accuracy: 0.2051 - val_loss: 2.0325\n"
          ]
        }
      ]
    },
    {
      "cell_type": "markdown",
      "source": [
        "# Graph"
      ],
      "metadata": {
        "id": "k-EPe9h6dMyw"
      }
    },
    {
      "cell_type": "code",
      "source": [
        "keys=['accuracy' , 'val_accuracy']\n",
        "progress = { k:v for k , v in tl_hist.history.items() if k in keys}\n",
        "import pandas as pd\n",
        "pd.DataFrame(progress).plot()\n",
        "plt.xlabel(\"Epochs\")\n",
        "plt.ylabel(\"Accuracy\")\n",
        "plt.grid(True)\n",
        "plt.show()"
      ],
      "metadata": {
        "colab": {
          "base_uri": "https://localhost:8080/",
          "height": 449
        },
        "id": "-vHB-ZoCdOLB",
        "outputId": "3e2c8e5d-609f-4410-f0ea-af7999cec254"
      },
      "execution_count": 11,
      "outputs": [
        {
          "output_type": "display_data",
          "data": {
            "text/plain": [
              "<Figure size 640x480 with 1 Axes>"
            ],
            "image/png": "[encoded data removed]"
          },
          "metadata": {}
        }
      ]
    },
    {
      "cell_type": "markdown",
      "source": [
        "# Saving the best models in a file called Models_1_TL\n"
      ],
      "metadata": {
        "id": "uQa7wjsZUC0c"
      }
    },
    {
      "cell_type": "markdown",
      "source": [
        "## Loss percentage of the models and models Accuracy"
      ],
      "metadata": {
        "id": "sjMfBqZH0TF8"
      }
    },
    {
      "cell_type": "code",
      "source": [
        "testloss_tl , testaccuracy_tl = tl_model.evaluate(x=x_test_std , y=y_test)\n",
        "print(\"Test-Loss : %f , Test -Accuracy : %f \" % (testloss_tl,testaccuracy_tl))\n",
        "\n",
        "\n"
      ],
      "metadata": {
        "colab": {
          "base_uri": "https://localhost:8080/"
        },
        "id": "kL-HtcJ1sgKN",
        "outputId": "728dcb19-76cf-40fe-f6f3-6f189e47f92d"
      },
      "execution_count": 12,
      "outputs": [
        {
          "output_type": "stream",
          "name": "stdout",
          "text": [
            "\u001b[1m5/5\u001b[0m \u001b[32m━━━━━━━━━━━━━━━━━━━━\u001b[0m\u001b[37m\u001b[0m \u001b[1m8s\u001b[0m 2s/step - accuracy: 0.2714 - loss: 1.9253\n",
            "Test-Loss : 1.984086 , Test -Accuracy : 0.230769 \n"
          ]
        }
      ]
    },
    {
      "cell_type": "code",
      "source": [
        "tl_model.load_weights(\"bestTL.weights.h5\")\n",
        "testlostt_tl , testaccuracy_tl =tl_model.evaluate(x=x_test_std, y=y_test)\n",
        "print(\"Test-Loss : %f , Test -Accuracy : %f \" % (testloss_tl,testaccuracy_tl))\n",
        "tl_model.save('/content/drive/MyDrive/Models_1_TL/01_InceptionV3_TransferLearning_Best_Model.h5')"
      ],
      "metadata": {
        "colab": {
          "base_uri": "https://localhost:8080/"
        },
        "id": "Y7lC07k3tez5",
        "outputId": "f4dccd9a-d8fc-49bb-a025-8cb321797d7c"
      },
      "execution_count": 13,
      "outputs": [
        {
          "output_type": "stream",
          "name": "stdout",
          "text": [
            "\u001b[1m5/5\u001b[0m \u001b[32m━━━━━━━━━━━━━━━━━━━━\u001b[0m\u001b[37m\u001b[0m \u001b[1m1s\u001b[0m 99ms/step - accuracy: 0.2406 - loss: 19.0289 \n"
          ]
        },
        {
          "output_type": "stream",
          "name": "stderr",
          "text": [
            "WARNING:absl:You are saving your model as an HDF5 file via `model.save()` or `keras.saving.save_model(model)`. This file format is considered legacy. We recommend using instead the native Keras format, e.g. `model.save('my_model.keras')` or `keras.saving.save_model(model, 'my_model.keras')`. \n"
          ]
        },
        {
          "output_type": "stream",
          "name": "stdout",
          "text": [
            "Test-Loss : 1.984086 , Test -Accuracy : 0.215385 \n"
          ]
        }
      ]
    },
    {
      "cell_type": "code",
      "source": [
        "from numpy import save\n",
        "save ('/content/drive/MyDrive/Models_1_TL/X_train_std.npy' , x_train_std)\n",
        "save( '/content/drive/MyDrive/Models_1_TL/X_test_std.npy' , x_test_std)\n",
        "save('/content/drive/MyDrive/Models_1_TL/y_train.npy', y_train)\n",
        "save('/content/drive/MyDrive/Models_1_TL/y_test.npy', y_test)"
      ],
      "metadata": {
        "id": "XQDFe99ctpEj"
      },
      "execution_count": 14,
      "outputs": []
    }
  ]
}
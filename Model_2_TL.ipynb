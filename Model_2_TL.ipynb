{
  "nbformat": 4,
  "nbformat_minor": 0,
  "metadata": {
    "colab": {
      "provenance": [],
      "gpuType": "T4"
    },
    "kernelspec": {
      "name": "python3",
      "display_name": "Python 3"
    },
    "language_info": {
      "name": "python"
    },
    "accelerator": "GPU"
  },
  "cells": [
    {
      "cell_type": "markdown",
      "source": [
        "# Name : **Tanishta** **Varman**\n",
        "# School :**SCDS**\n",
        "# Email ID : *tanishta.m-26@scds.saiuniversity.edu.in*"
      ],
      "metadata": {
        "id": "KjY53AnkpEGR"
      }
    },
    {
      "cell_type": "markdown",
      "source": [
        "# Import Libraries"
      ],
      "metadata": {
        "id": "SfcMn2IjIHi3"
      }
    },
    {
      "cell_type": "code",
      "execution_count": 1,
      "metadata": {
        "colab": {
          "base_uri": "https://localhost:8080/"
        },
        "id": "egXhpTT-HHOU",
        "outputId": "c2644b5a-04c8-4f6a-fa9f-61d6ab2ba784"
      },
      "outputs": [
        {
          "output_type": "stream",
          "name": "stdout",
          "text": [
            "modules loaded\n"
          ]
        }
      ],
      "source": [
        "import os\n",
        "import numpy as np\n",
        "import pandas as pd\n",
        "import matplotlib.pyplot as plt\n",
        "import tensorflow as tf\n",
        "from tensorflow import keras\n",
        "import pathlib\n",
        "import glob\n",
        "import PIL\n",
        "from PIL import Image , ImageEnhance\n",
        "from sklearn.model_selection import train_test_split\n",
        "from sklearn.metrics import confusion_matrix, classification_report\n",
        "from tensorflow.keras.models import Model\n",
        "from tensorflow.keras.layers import Dense , Dropout , BatchNormalization\n",
        "print('modules loaded')\n"
      ]
    },
    {
      "cell_type": "markdown",
      "source": [
        "# Data breaking"
      ],
      "metadata": {
        "id": "lsy55oGqILJV"
      }
    },
    {
      "cell_type": "code",
      "source": [
        "from google.colab import drive\n",
        "drive.mount('/content/drive')"
      ],
      "metadata": {
        "colab": {
          "base_uri": "https://localhost:8080/"
        },
        "id": "vcrDCzCaIO5U",
        "outputId": "b787d97a-9aa3-4d35-c3fd-00ed405ded79"
      },
      "execution_count": 2,
      "outputs": [
        {
          "output_type": "stream",
          "name": "stdout",
          "text": [
            "Mounted at /content/drive\n"
          ]
        }
      ]
    },
    {
      "cell_type": "code",
      "source": [
        "data_class=os.listdir('/content/drive/MyDrive/Dl_project /data file')\n",
        "number_class=len(data_class)\n",
        "print(\"The number of classes the cats are sorted \",number_class)\n",
        "print(\"The name of each type of cat \",data_class)"
      ],
      "metadata": {
        "colab": {
          "base_uri": "https://localhost:8080/"
        },
        "id": "gIFwJIiFIWWU",
        "outputId": "87f8a3d7-9a3a-443d-9fc4-ba94db50b113"
      },
      "execution_count": 3,
      "outputs": [
        {
          "output_type": "stream",
          "name": "stdout",
          "text": [
            "The number of classes the cats are sorted  7\n",
            "The name of each type of cat  ['jungle-cat', 'domestic-cat', 'chinese-mountain-cat', 'european-wildcat', 'african-wildcat', 'sand-cat', 'blackfoot-cat']\n"
          ]
        }
      ]
    },
    {
      "cell_type": "markdown",
      "source": [
        "# Sort Datasets with Label"
      ],
      "metadata": {
        "id": "p9rpR76IIolK"
      }
    },
    {
      "cell_type": "code",
      "source": [
        "path_of_file=[] # has all the images and their paths\n",
        "file_label=[] #has the type or class of cat and its location\n",
        "img_count=[] # count_images_class # number of images in each type or class\n",
        "final_count=0 # total number of images\n",
        "\n",
        "for index, nameofclass in enumerate(data_class):\n",
        "  class_count=0\n",
        "  file=os.path.join(\"/content/drive/MyDrive/Dl_project /data file\", nameofclass)\n",
        "  fileofclass=os.listdir(file)\n",
        "  for i in fileofclass:\n",
        "    path_of_file.append(os.path.join(file,i))\n",
        "    final_count +=1\n",
        "    class_count +=1\n",
        "    file_label.append(nameofclass)\n",
        "  img_count.append(class_count)\n",
        "\n",
        "print(\"Total number of images \",final_count)\n",
        "print(\"Number of images in each type of cat\",img_count)\n"
      ],
      "metadata": {
        "colab": {
          "base_uri": "https://localhost:8080/"
        },
        "id": "2VSEUhtIIujm",
        "outputId": "bf0fb5f1-580b-44be-8171-017eb087460e"
      },
      "execution_count": 4,
      "outputs": [
        {
          "output_type": "stream",
          "name": "stdout",
          "text": [
            "Total number of images  519\n",
            "Number of images in each type of cat [86, 64, 42, 85, 91, 72, 79]\n"
          ]
        }
      ]
    },
    {
      "cell_type": "markdown",
      "source": [
        "#### now we process the images we have since we cannot use them as it is"
      ],
      "metadata": {
        "id": "nKOuiq5LI-yI"
      }
    },
    {
      "cell_type": "code",
      "source": [
        "ex=[]\n",
        "for i in path_of_file:\n",
        "  j=Image.open(i)\n",
        "  j=j.resize((224,224))\n",
        "  j=np.array(j)/255.0 # we are making range to 0 to 1.0 we only scale we dont try to stretch the image\n",
        "  ex.append(j)\n",
        "\n",
        "from sklearn.preprocessing import LabelEncoder\n",
        "end=LabelEncoder()\n",
        "y=end.fit_transform(file_label)\n",
        "print(set(y))\n",
        "print(end.classes_)\n",
        "ex=np.array(ex)\n",
        "y=np.array(y)\n",
        "print(ex.shape)\n",
        "print(y.shape)\n"
      ],
      "metadata": {
        "colab": {
          "base_uri": "https://localhost:8080/"
        },
        "id": "cVtEEWc9I_PV",
        "outputId": "0a957751-78d4-4e64-9b11-fbfa40821389"
      },
      "execution_count": 5,
      "outputs": [
        {
          "output_type": "stream",
          "name": "stdout",
          "text": [
            "{0, 1, 2, 3, 4, 5, 6}\n",
            "['african-wildcat' 'blackfoot-cat' 'chinese-mountain-cat' 'domestic-cat'\n",
            " 'european-wildcat' 'jungle-cat' 'sand-cat']\n",
            "(519, 224, 224, 3)\n",
            "(519,)\n"
          ]
        }
      ]
    },
    {
      "cell_type": "markdown",
      "source": [
        " # Now we split the dataset for training and testing\n"
      ],
      "metadata": {
        "id": "BXLmmkyOJokT"
      }
    },
    {
      "cell_type": "markdown",
      "source": [
        "##Transfer Learning\n"
      ],
      "metadata": {
        "id": "atLzumU9KEbj"
      }
    },
    {
      "cell_type": "code",
      "source": [
        "x_train,x_test,y_train,y_test=train_test_split(ex,y,test_size=0.25,random_state=42,stratify=y)\n",
        "# we use stratify cause the types on the data set are not balanced some has more and some has less images\n",
        "print(\"shape of x_train {}\".format(x_train.shape))\n",
        "print(\"shape of x_test{} \".format(x_test.shape))\n",
        "print(len(x_train))\n",
        "print(len(x_test))\n",
        "print(\"shape of y_train {}\".format(y_train.shape))\n",
        "print(\"shape of y_test{} \".format(y_test.shape))\n",
        "print(len(y_train))\n",
        "print(len(y_test))"
      ],
      "metadata": {
        "colab": {
          "base_uri": "https://localhost:8080/"
        },
        "id": "0KZPmwalJrjf",
        "outputId": "a713fd2b-edf2-4d0c-a103-b8406372d60b"
      },
      "execution_count": 6,
      "outputs": [
        {
          "output_type": "stream",
          "name": "stdout",
          "text": [
            "shape of x_train (389, 224, 224, 3)\n",
            "shape of x_test(130, 224, 224, 3) \n",
            "389\n",
            "130\n",
            "shape of y_train (389,)\n",
            "shape of y_test(130,) \n",
            "389\n",
            "130\n"
          ]
        }
      ]
    },
    {
      "cell_type": "markdown",
      "source": [
        "now we standardise the data sets"
      ],
      "metadata": {
        "id": "KEzEXLdhJ3Ii"
      }
    },
    {
      "cell_type": "code",
      "source": [
        "mean_x=x_train.mean()\n",
        "std=x_train.std()\n",
        "x_train_std=(x_train - mean_x) / std\n",
        "x_test_std=(x_test - mean_x) / std"
      ],
      "metadata": {
        "id": "bjMCkdOvJ3tQ"
      },
      "execution_count": 7,
      "outputs": []
    },
    {
      "cell_type": "markdown",
      "source": [
        "Then after that we do Transfer Learning"
      ],
      "metadata": {
        "id": "-2J0QZ9lKMRe"
      }
    },
    {
      "cell_type": "code",
      "source": [
        "base = keras.applications.DenseNet121(\n",
        "    include_top=False,\n",
        "    weights=\"imagenet\",\n",
        "    name=\"densenet121\",\n",
        ")"
      ],
      "metadata": {
        "colab": {
          "base_uri": "https://localhost:8080/"
        },
        "id": "73w31tPKKM5W",
        "outputId": "fd2bd29a-ec8a-4a22-cb68-cf664eb74490"
      },
      "execution_count": 8,
      "outputs": [
        {
          "output_type": "stream",
          "name": "stdout",
          "text": [
            "Downloading data from https://storage.googleapis.com/tensorflow/keras-applications/densenet/densenet121_weights_tf_dim_ordering_tf_kernels_notop.h5\n",
            "\u001b[1m29084464/29084464\u001b[0m \u001b[32m━━━━━━━━━━━━━━━━━━━━\u001b[0m\u001b[37m\u001b[0m \u001b[1m2s\u001b[0m 0us/step\n"
          ]
        }
      ]
    },
    {
      "cell_type": "markdown",
      "source": [
        "we can not make changes to the acquried model .\n",
        "\n",
        "\n",
        "we do this so not all weights are used and updated during backpropagation"
      ],
      "metadata": {
        "id": "pDqIhBqWKfVG"
      }
    },
    {
      "cell_type": "code",
      "source": [
        "print(base.output.shape)"
      ],
      "metadata": {
        "colab": {
          "base_uri": "https://localhost:8080/"
        },
        "id": "xu9vgPwQOYOc",
        "outputId": "c4585019-8964-4141-b561-354ce0a1535f"
      },
      "execution_count": 9,
      "outputs": [
        {
          "output_type": "stream",
          "name": "stdout",
          "text": [
            "(None, None, None, 1024)\n"
          ]
        }
      ]
    },
    {
      "cell_type": "code",
      "source": [
        "for i in base.layers:\n",
        "  i.trainabe=False"
      ],
      "metadata": {
        "id": "yyse1nHAKgCk"
      },
      "execution_count": 10,
      "outputs": []
    },
    {
      "cell_type": "markdown",
      "source": [
        "# Add Classifier"
      ],
      "metadata": {
        "id": "wAfejzwiKi81"
      }
    },
    {
      "cell_type": "code",
      "source": [
        "# we will do global average pooling\n",
        "gp=keras.layers.GlobalAveragePooling2D()(base.output)\n",
        "x= BatchNormalization()(gp)\n",
        "x = Dropout(0.35)(x)\n",
        "op=keras.layers.Dense(units=7, activation='softmax')(x)\n",
        "tl_model=keras.models.Model(inputs=[base.input],outputs=[op])\n",
        "\n",
        "\n",
        "tl_model.compile(optimizer='adam', loss ='sparse_categorical_crossentropy', metrics=['accuracy'])\n",
        "tl_calback=[ keras.callbacks.ModelCheckpoint('bestTL.weights.h5', monitor='val_accuracy', save_best_only=True, save_weights_only=True)]\n",
        "\n",
        "tl_hist=tl_model.fit(x= x_train_std , y=y_train , validation_split=0.1, batch_size=32,epochs=10 , callbacks=tl_calback)"
      ],
      "metadata": {
        "colab": {
          "base_uri": "https://localhost:8080/"
        },
        "id": "MOulRdsOvjaH",
        "outputId": "22c2d5c3-dff7-4556-f503-a2b4c54d12c5"
      },
      "execution_count": 14,
      "outputs": [
        {
          "output_type": "stream",
          "name": "stdout",
          "text": [
            "Epoch 1/10\n",
            "\u001b[1m11/11\u001b[0m \u001b[32m━━━━━━━━━━━━━━━━━━━━\u001b[0m\u001b[37m\u001b[0m \u001b[1m302s\u001b[0m 13s/step - accuracy: 0.4694 - loss: 1.7325 - val_accuracy: 0.2051 - val_loss: 2.4366\n",
            "Epoch 2/10\n",
            "\u001b[1m11/11\u001b[0m \u001b[32m━━━━━━━━━━━━━━━━━━━━\u001b[0m\u001b[37m\u001b[0m \u001b[1m21s\u001b[0m 445ms/step - accuracy: 0.7933 - loss: 0.6414 - val_accuracy: 0.2564 - val_loss: 13.5460\n",
            "Epoch 3/10\n",
            "\u001b[1m11/11\u001b[0m \u001b[32m━━━━━━━━━━━━━━━━━━━━\u001b[0m\u001b[37m\u001b[0m \u001b[1m5s\u001b[0m 415ms/step - accuracy: 0.8114 - loss: 0.4701 - val_accuracy: 0.2821 - val_loss: 5.1059\n",
            "Epoch 4/10\n",
            "\u001b[1m11/11\u001b[0m \u001b[32m━━━━━━━━━━━━━━━━━━━━\u001b[0m\u001b[37m\u001b[0m \u001b[1m3s\u001b[0m 295ms/step - accuracy: 0.9265 - loss: 0.2399 - val_accuracy: 0.0256 - val_loss: 5.2842\n",
            "Epoch 5/10\n",
            "\u001b[1m11/11\u001b[0m \u001b[32m━━━━━━━━━━━━━━━━━━━━\u001b[0m\u001b[37m\u001b[0m \u001b[1m3s\u001b[0m 297ms/step - accuracy: 0.8929 - loss: 0.3403 - val_accuracy: 0.1282 - val_loss: 9.1238\n",
            "Epoch 6/10\n",
            "\u001b[1m11/11\u001b[0m \u001b[32m━━━━━━━━━━━━━━━━━━━━\u001b[0m\u001b[37m\u001b[0m \u001b[1m3s\u001b[0m 302ms/step - accuracy: 0.9372 - loss: 0.1412 - val_accuracy: 0.2564 - val_loss: 10.5883\n",
            "Epoch 7/10\n",
            "\u001b[1m11/11\u001b[0m \u001b[32m━━━━━━━━━━━━━━━━━━━━\u001b[0m\u001b[37m\u001b[0m \u001b[1m6s\u001b[0m 413ms/step - accuracy: 0.9311 - loss: 0.2209 - val_accuracy: 0.5128 - val_loss: 5.4082\n",
            "Epoch 8/10\n",
            "\u001b[1m11/11\u001b[0m \u001b[32m━━━━━━━━━━━━━━━━━━━━\u001b[0m\u001b[37m\u001b[0m \u001b[1m4s\u001b[0m 297ms/step - accuracy: 0.9694 - loss: 0.0855 - val_accuracy: 0.3077 - val_loss: 6.4652\n",
            "Epoch 9/10\n",
            "\u001b[1m11/11\u001b[0m \u001b[32m━━━━━━━━━━━━━━━━━━━━\u001b[0m\u001b[37m\u001b[0m \u001b[1m3s\u001b[0m 308ms/step - accuracy: 0.9793 - loss: 0.0814 - val_accuracy: 0.4359 - val_loss: 3.6720\n",
            "Epoch 10/10\n",
            "\u001b[1m11/11\u001b[0m \u001b[32m━━━━━━━━━━━━━━━━━━━━\u001b[0m\u001b[37m\u001b[0m \u001b[1m5s\u001b[0m 418ms/step - accuracy: 0.9716 - loss: 0.0880 - val_accuracy: 0.5385 - val_loss: 2.0778\n"
          ]
        }
      ]
    },
    {
      "cell_type": "markdown",
      "source": [
        "# Graph"
      ],
      "metadata": {
        "id": "11fWINdALxbH"
      }
    },
    {
      "cell_type": "code",
      "source": [
        "keys=['accuracy' , 'val_accuracy']\n",
        "progress = { k:v for k , v in tl_hist.history.items() if k in keys}\n",
        "import pandas as pd\n",
        "pd.DataFrame(progress).plot()\n",
        "plt.xlabel(\"Epochs\")\n",
        "plt.ylabel(\"Accuracy\")\n",
        "plt.grid(True)\n",
        "plt.show()"
      ],
      "metadata": {
        "id": "WD1jqFVgLywP",
        "colab": {
          "base_uri": "https://localhost:8080/",
          "height": 449
        },
        "outputId": "5efabff1-d7da-44d1-e72d-75b60e3eb60a"
      },
      "execution_count": 15,
      "outputs": [
        {
          "output_type": "display_data",
          "data": {
            "text/plain": [
              "<Figure size 640x480 with 1 Axes>"
            ],
            "image/png": "[encoded data removed]"
          },
          "metadata": {}
        }
      ]
    },
    {
      "cell_type": "markdown",
      "source": [
        "# We are saving the best models in models_2"
      ],
      "metadata": {
        "id": "Pnt9zOY5MAJS"
      }
    },
    {
      "cell_type": "markdown",
      "source": [
        "## Loss percentage of the models and models Accuracy"
      ],
      "metadata": {
        "id": "t6E3AtLeMPe6"
      }
    },
    {
      "cell_type": "code",
      "source": [
        "testloss_tl , testaccuracy_tl = tl_model.evaluate(x=x_test_std , y=y_test)\n",
        "print(\"Test-Loss : %f , Test -Accuracy : %f \" % (testloss_tl,testaccuracy_tl))\n",
        "\n"
      ],
      "metadata": {
        "id": "FrZKteKzML2q",
        "colab": {
          "base_uri": "https://localhost:8080/"
        },
        "outputId": "456810e1-d916-4afd-9e8c-29c9513ff126"
      },
      "execution_count": 16,
      "outputs": [
        {
          "output_type": "stream",
          "name": "stdout",
          "text": [
            "\u001b[1m5/5\u001b[0m \u001b[32m━━━━━━━━━━━━━━━━━━━━\u001b[0m\u001b[37m\u001b[0m \u001b[1m7s\u001b[0m 2s/step - accuracy: 0.6229 - loss: 1.9637\n",
            "Test-Loss : 2.237864 , Test -Accuracy : 0.561538 \n"
          ]
        }
      ]
    },
    {
      "cell_type": "code",
      "source": [
        "tl_model.load_weights(\"bestTL.weights.h5\")\n",
        "testlostt_tl , testaccuracy_tl =tl_model.evaluate(x=x_test_std, y=y_test)\n",
        "print(\"Test-Loss : %f , Test -Accuracy : %f \" % (testloss_tl,testaccuracy_tl))\n",
        "tl_model.save('/content/drive/MyDrive/Models_2_TL/01_DenseNet121_TransferLearning_Best_Model.h5')"
      ],
      "metadata": {
        "id": "oiG9FkPPMTED",
        "colab": {
          "base_uri": "https://localhost:8080/"
        },
        "outputId": "e84760ae-48ce-42a7-a601-47baf2b0d2bc"
      },
      "execution_count": 17,
      "outputs": [
        {
          "output_type": "stream",
          "name": "stdout",
          "text": [
            "\u001b[1m5/5\u001b[0m \u001b[32m━━━━━━━━━━━━━━━━━━━━\u001b[0m\u001b[37m\u001b[0m \u001b[1m0s\u001b[0m 78ms/step - accuracy: 0.6229 - loss: 1.9637\n"
          ]
        },
        {
          "output_type": "stream",
          "name": "stderr",
          "text": [
            "WARNING:absl:You are saving your model as an HDF5 file via `model.save()` or `keras.saving.save_model(model)`. This file format is considered legacy. We recommend using instead the native Keras format, e.g. `model.save('my_model.keras')` or `keras.saving.save_model(model, 'my_model.keras')`. \n"
          ]
        },
        {
          "output_type": "stream",
          "name": "stdout",
          "text": [
            "Test-Loss : 2.237864 , Test -Accuracy : 0.561538 \n"
          ]
        }
      ]
    },
    {
      "cell_type": "code",
      "source": [
        "from numpy import save\n",
        "save ('/content/drive/MyDrive/Models_2_TL/X_train_std.npy' , x_train_std)\n",
        "save( '/content/drive/MyDrive/Models_2_TL/X_test_std.npy' , x_test_std)\n",
        "save('/content/drive/MyDrive/Models_2_TL/y_train.npy', y_train)\n",
        "save('/content/drive/MyDrive/Models_2_TL/y_test.npy', y_test)"
      ],
      "metadata": {
        "id": "-JUjkVsQMWN0"
      },
      "execution_count": 18,
      "outputs": []
    }
  ]
}